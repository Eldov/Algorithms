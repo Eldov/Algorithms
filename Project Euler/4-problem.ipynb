{
 "cells": [
  {
   "cell_type": "markdown",
   "metadata": {},
   "source": [
    "## The Problem\n",
    "A palindromic number reads the same both ways. The largest palindrome made from the product of two $2$-digit numbers is $9009 = 91 \\times 99$.\n",
    "Find the largest palindrome made from the product of two $3$-digit numbers."
   ]
  },
  {
   "cell_type": "markdown",
   "metadata": {},
   "source": [
    "## Explaining maxPalindrome:\n",
    "For this function, we will find the largest palindrome coming from n digits-numbers.  \n",
    "The argument is the number of digits (length of the numbers) both factors will have.  \n",
    "\n",
    "The trick with this one is start from bigger numbers and once the palindrome is  bigger than the product, we know the next palindrome will be smaller and the loop is broken. That is why the range is starting by \"end\", stopping at \"start\" with -1 as steps.  \n",
    "In my first try I had the code appending results to the \"palist\", but it starts from the smaller number so it is not as efficient."
   ]
  },
  {
   "cell_type": "code",
   "execution_count": 11,
   "metadata": {},
   "outputs": [],
   "source": [
    "def maxPalindrome(d):\n",
    "    \n",
    "    start = (10**(d-1))\n",
    "    end = (10**d)\n",
    "\n",
    "    factors =  []\n",
    "    max_pal = 0\n",
    "    for i in range(end, start, -1):\n",
    "        for j in range(i, start, -1):\n",
    "            product = i*j\n",
    "            if product < max_pal:\n",
    "                break\n",
    "            if str(product) == str(product)[::-1]:\n",
    "                max_pal = product\n",
    "                factors = [i, j]\n",
    "    return max_pal\n",
    "    # print(f'The largest palindrome made from the product of {d} digits-numbers is {max_pal}, made from the factors {factors[0]} and {factors[1]}.')\n"
   ]
  },
  {
   "cell_type": "code",
   "execution_count": 14,
   "metadata": {},
   "outputs": [
    {
     "data": {
      "text/plain": [
       "906609"
      ]
     },
     "execution_count": 14,
     "metadata": {},
     "output_type": "execute_result"
    }
   ],
   "source": [
    "maxPalindrome(3)"
   ]
  },
  {
   "cell_type": "code",
   "execution_count": 13,
   "metadata": {},
   "outputs": [],
   "source": [
    "def maxPalindrome(d):\n",
    "    \n",
    "    start = (10**(d-1))\n",
    "    end = (10**d)\n",
    "    \n",
    "    palist = []\n",
    "    for i in range(start, end):\n",
    "        for j in range(i, end):\n",
    "            product = i*j\n",
    "            if str(product) == str(product)[::-1]:\n",
    "                palist.append([product, i, j])\n",
    "    return max(palist)[0]\n",
    "\n",
    "    # print(f'The largest palindrome made from the product of {d} digits-numbers is {max(palist)[0]}, made from the factors {max(palist)[1]} and {max(palist)[2]}.')"
   ]
  }
 ],
 "metadata": {
  "kernelspec": {
   "display_name": "Python 3",
   "language": "python",
   "name": "python3"
  },
  "language_info": {
   "codemirror_mode": {
    "name": "ipython",
    "version": 3
   },
   "file_extension": ".py",
   "mimetype": "text/x-python",
   "name": "python",
   "nbconvert_exporter": "python",
   "pygments_lexer": "ipython3",
   "version": "3.10.11"
  },
  "orig_nbformat": 4
 },
 "nbformat": 4,
 "nbformat_minor": 2
}
