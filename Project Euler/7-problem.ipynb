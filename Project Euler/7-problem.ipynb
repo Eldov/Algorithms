{
 "cells": [
  {
   "cell_type": "markdown",
   "metadata": {},
   "source": [
    "## The Problem\n",
    "By listing the first six prime numbers: $2, 3, 5, 7, 11$, and $13$, we can see that the $6$th prime is $13$.  \n",
    "What is the $10\\,001$st prime number?"
   ]
  },
  {
   "cell_type": "markdown",
   "metadata": {},
   "source": [
    "## Explaining primeNth:\n",
    "Prime numbers correspond to less than 1% of all integers.  \n",
    "For this exercise, I will consider that 1% of integers are prime.\n",
    "It means that if we are looking for the 10th (nth = 10) prime number, we will look into a group of 1000 numbers (n = 1000).  \n",
    "We know that the 10th prime number is 29, way less than the 1k we have but the bigger the nth prime number is, the smaller is its frequency.  \n",
    "That means this code will have an out of range error at some point. I do not know where the limit is as my machine can only run to nth = 1,000,000 (15485863).\n",
    "\n",
    "To be a prime number, an integer needs to be divisible by 1 and itself only.  \n",
    "To test that we could divide each number by range(2,n), doing  \n",
    " **```for i in range(2,n) if n % i == 0```**  \n",
    "In other words, if n is divisible by  any number from 2 to itself - 1, you will **not** have a prime. That gives us a algorithm of notation O(n), which is not good! \n",
    "To optimize this code, it would be better to have something like O(log n)!\n",
    "Thats where the n**(1/2) comes in!  \n",
    "Though the prime number can only be divisible by 1 and itself, if until n**(1/2) you did not find a number where n can be divisible by, you found yourself a prime number! And that improves the notation for us!\n",
    "\n",
    "Another thing is you should not test every number under n 1 by 1! If your code knows that 2 is a prime number, would be a waste to check if 4, a multiple of 2, is a prime number too, right? Defeats the purpose!  \n",
    "For this reason we have a list of boolean values that by pattern is all true.  \n",
    "Then after each test we add the falses. It will set a false to every j multiple of i (from i*i (or i**2) to n, skipping steps of i and never reaching n). The untouched numbers will be the primes!\n",
    "\n",
    "Now we have a list full of True and Falses, which does not tell us the prime number, right? But we know that the value of each prime number will be the index of each True in that list.\n",
    "Think about it: if we check prime numbers in a group of n = 6, you will have an array from 0 to 5 (6 is not included). The output would be:  \n",
    "**```[False, False, True, True, False, True]```**  \n",
    "The numbers would be the index:  \n",
    "\n",
    "|Output|Index|\n",
    "|--|--|\n",
    "|False|0|\n",
    "|False|1|\n",
    "|True|2|\n",
    "|True|3|\n",
    "|False|4|\n",
    "|True|5|\n",
    "\n",
    "If we, using list comprehension (enumerate() brings a counter for every item in a collection), create a new list called **prime_index** by filtering all the **True's** from the **primes** list and bringing only the index of the later, we will have a list of the primes:  \n",
    "|prime_index|\n",
    "|-|\n",
    "|2|\n",
    "|3|\n",
    "|5|\n",
    "\n",
    "The first prime (nth = 1), would be the number 2!"
   ]
  },
  {
   "cell_type": "code",
   "execution_count": 86,
   "metadata": {},
   "outputs": [],
   "source": [
    "def primeNth(nth):\n",
    "    n = int((100*nth))\n",
    "    if n <= 2:\n",
    "        return 0\n",
    "      \n",
    "    primes: list[bool] = [True] * n\n",
    "    primes[0] = primes[1] = False\n",
    "    for i in range(2,int((n**(1/2))+1)):\n",
    "        if primes[i]:\n",
    "            for j in range(i*i, n, i):\n",
    "                primes[j] = False\n",
    "    \n",
    "    prime_index: list[int] = [i for i, x in enumerate(primes) if x]\n",
    "    print(prime_index[nth-1])"
   ]
  },
  {
   "cell_type": "code",
   "execution_count": 87,
   "metadata": {},
   "outputs": [
    {
     "name": "stdout",
     "output_type": "stream",
     "text": [
      "104743\n"
     ]
    }
   ],
   "source": [
    "primeNth(10001)"
   ]
  }
 ],
 "metadata": {
  "kernelspec": {
   "display_name": "Python 3",
   "language": "python",
   "name": "python3"
  },
  "language_info": {
   "codemirror_mode": {
    "name": "ipython",
    "version": 3
   },
   "file_extension": ".py",
   "mimetype": "text/x-python",
   "name": "python",
   "nbconvert_exporter": "python",
   "pygments_lexer": "ipython3",
   "version": "3.10.11"
  },
  "orig_nbformat": 4
 },
 "nbformat": 4,
 "nbformat_minor": 2
}
