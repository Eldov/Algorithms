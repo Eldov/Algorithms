{
 "cells": [
  {
   "cell_type": "markdown",
   "metadata": {},
   "source": [
    "## The Problem: \n",
    "\n",
    "If we list all the natural numbers below that are multiples of 3 or 5, we get 3, 5, 6 and 9. The sum of these multiples is 23.\n",
    "Find the sum of all the multiples of 3 or 5 below 1000. \n",
    "## Explaining multiplesBelow:\n",
    "\n",
    "First, the code creates 2 lists:  \n",
    "union -> The list with all multiples of 3 and 5;  \n",
    "intersection -> The list with all multiples of 15.  \n",
    "\n",
    "Then we iterate through a range from 2 (nothing below 2 will be of use for us in this case) to n.  \n",
    "We need both lists because when iterating j through our list of multiples (3 and 5), the multiples of 15 will show up twice, for 3 and for 5. So union will have these values doubled.  \n",
    "Once we have intersection, the list with multiples of 15 only, we can calculate the real sum of multiples of 3 or 5, which is the sum of union subtracting the sum of the intersection.\n",
    "\n",
    "I also tried creating a function based on the one to calculate prime numbers but it is not more efficient than the first option. Great for testing, though."
   ]
  },
  {
   "cell_type": "code",
   "execution_count": 2,
   "metadata": {},
   "outputs": [],
   "source": [
    "def multiplesBelow(n):\n",
    "    union = []\n",
    "    intersection = []\n",
    "    for i in range(2, n):\n",
    "        for j in [3, 5]:\n",
    "            if i%j == 0:\n",
    "                union.append(i)\n",
    "        if i%15 == 0:\n",
    "            intersection.append(i)\n",
    "            \n",
    "    total = sum(union) - sum(intersection)\n",
    "    return total\n"
   ]
  },
  {
   "cell_type": "code",
   "execution_count": 3,
   "metadata": {},
   "outputs": [
    {
     "data": {
      "text/plain": [
       "233168"
      ]
     },
     "execution_count": 3,
     "metadata": {},
     "output_type": "execute_result"
    }
   ],
   "source": [
    "multiplesBelow(1000)"
   ]
  },
  {
   "cell_type": "code",
   "execution_count": 4,
   "metadata": {},
   "outputs": [],
   "source": [
    "def multiplesBelowTesting(n):\n",
    "    \n",
    "    if n <= 2:\n",
    "        return 0\n",
    "    multi = [3, 5]\n",
    "    numbers: list[bool] = [False] * n\n",
    "    for i in range(2, n):\n",
    "       if numbers[i] == False:\n",
    "            for j in multi:\n",
    "               if i%j == 0:\n",
    "                numbers[i] = True\n",
    "    \n",
    "    number_index: list[int] = [i for i, x in enumerate(numbers) if x]\n",
    "    total_sum = sum(number_index)\n",
    "    return total_sum"
   ]
  },
  {
   "cell_type": "code",
   "execution_count": 5,
   "metadata": {},
   "outputs": [
    {
     "data": {
      "text/plain": [
       "233168"
      ]
     },
     "execution_count": 5,
     "metadata": {},
     "output_type": "execute_result"
    }
   ],
   "source": [
    "multiplesBelowTesting(1000)"
   ]
  }
 ],
 "metadata": {
  "kernelspec": {
   "display_name": "Python 3",
   "language": "python",
   "name": "python3"
  },
  "language_info": {
   "codemirror_mode": {
    "name": "ipython",
    "version": 3
   },
   "file_extension": ".py",
   "mimetype": "text/x-python",
   "name": "python",
   "nbconvert_exporter": "python",
   "pygments_lexer": "ipython3",
   "version": "3.10.11"
  },
  "orig_nbformat": 4
 },
 "nbformat": 4,
 "nbformat_minor": 2
}
