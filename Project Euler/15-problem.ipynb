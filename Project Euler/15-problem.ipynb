{
 "cells": [
  {
   "attachments": {
    "image.png": {
     "image/png": "[encoded data removed]"
    }
   },
   "cell_type": "markdown",
   "metadata": {},
   "source": [
    "## The Problem\n",
    "Starting in the top left corner of a $2 \\times 2$ grid, and only being able to move to the right and down, there are exactly $6$ routes to the bottom right corner.  \n",
    "![image.png](attachment:image.png)  \n",
    "How many such routes are there through a $20$ x $20$ grid?"
   ]
  },
  {
   "cell_type": "markdown",
   "metadata": {},
   "source": [
    "## Explaining gridRoutes:\n",
    "\n",
    "A grid will be a big square made of small squares.  \n",
    "  \n",
    "2x2 Grid:    \n",
    "| | |\n",
    "|-|-|\n",
    "| | |  \n",
    "  \n",
    "3x3 Grid:  \n",
    "| | | |\n",
    "|-|-|-|\n",
    "| | | |\n",
    "| | | |  \n",
    "\n",
    "If we think that each corner of each small square is a node, we can create a matrix where number of rows and columns are equal, sum by one. A 2x2 grid would become a 3x3 matrix:  \n",
    "  \n",
    "2x2 Grid = 3x3 Matrix:  \n",
    "  \n",
    "0 0 0  \n",
    "0 0 0  \n",
    "0 0 0   \n",
    "  \n",
    "3x3 Grid = 4x4 Matrix:  \n",
    "  \n",
    "0 0 0 0  \n",
    "0 0 0 0  \n",
    "0 0 0 0  \n",
    "0 0 0 0  \n",
    "\n",
    "So the first thing the code does, is create a maxtrix mat[i][j] where i=j=n and n is the size of the grid (g) + 1.  \n",
    "In order to find all the possible routes in a grid, we will set that every time the coordinate in the matrix has a 0, the value of the cell will be 1. In other words, when i or j == 0, mat[i][j] = 1.\n",
    "This will give us:  \n",
    "  \n",
    "2x2 Grid = 3x3 Matrix:  \n",
    "  \n",
    "1 1 1  \n",
    "1 0 0  \n",
    "1 0 0  \n",
    "  \n",
    "Once that's done, we will set that the value of a cell is the sum of its adjacent cells (actually, just the cells right before, mat[i-1][j] and mat[i][j-1]).  \n",
    "Think about the cell mat[1][1]:  \n",
    "Its adjacent to mat[0][1] (value = 1) and mat[1][0] (value = 1). So mat[1][1] should be 2:\n",
    "  \n",
    "2x2 Grid = 3x3 Matrix:  \n",
    "  \n",
    "1 1 1  \n",
    "1 2 0  \n",
    "1 0 0  \n",
    "  \n",
    "That way, mat[2][3] = mat[3][2] = 2 + 1 = 3:  \n",
    "  \n",
    "2x2 Grid = 3x3 Matrix:  \n",
    "  \n",
    "1 1 1  \n",
    "1 2 3  \n",
    "1 3 0  \n",
    "  \n",
    "And mat[3][3] will be 6, our result:  \n",
    "  \n",
    "2x2 Grid = 3x3 Matrix:  \n",
    "  \n",
    "1 1 1  \n",
    "1 2 3  \n",
    "1 3 6  \n",
    "  \n",
    "In other words, our result for number of paths in a grid will always be the value of the latest cell of its grid's correspondent matrix, when you sum the adjacent cells."
   ]
  },
  {
   "cell_type": "code",
   "execution_count": 6,
   "metadata": {},
   "outputs": [],
   "source": [
    "def gridRoutes(g):\n",
    "    n=g+1\n",
    "    mat = [[0]*n for x in range(n)]\n",
    "    for i in range(0,n):\n",
    "        for j in range(0,n):\n",
    "            if j == 0 or i == 0:\n",
    "                mat[i][j]=1\n",
    "            else:\n",
    "                mat[i][j]= mat[i-1][j]+mat[i][j-1]\n",
    "    print(mat[n-1][n-1])"
   ]
  },
  {
   "cell_type": "code",
   "execution_count": 7,
   "metadata": {},
   "outputs": [
    {
     "name": "stdout",
     "output_type": "stream",
     "text": [
      "137846528820\n"
     ]
    }
   ],
   "source": [
    "gridRoutes(20)\n"
   ]
  }
 ],
 "metadata": {
  "kernelspec": {
   "display_name": "Python 3",
   "language": "python",
   "name": "python3"
  },
  "language_info": {
   "codemirror_mode": {
    "name": "ipython",
    "version": 3
   },
   "file_extension": ".py",
   "mimetype": "text/x-python",
   "name": "python",
   "nbconvert_exporter": "python",
   "pygments_lexer": "ipython3",
   "version": "3.10.11"
  },
  "orig_nbformat": 4
 },
 "nbformat": 4,
 "nbformat_minor": 2
}
