{
 "cells": [
  {
   "cell_type": "markdown",
   "metadata": {},
   "source": [
    "## The Problem\n",
    "$2520$ is the smallest number that can be divided by each of the numbers from $1$ to $10$ without any remainder.  \n",
    "What is the smallest positive number that is <dfn class=\"tooltip\">evenly divisible<span class=\"tooltiptext\">divisible with no remainder</span></dfn> by all of the numbers from $1$ to $20$?"
   ]
  },
  {
   "cell_type": "markdown",
   "metadata": {},
   "source": [
    "## Explaining upTo:\n",
    "In this exercise I used something called prime factorization. It is the method that find the prime numbers that cohelp in forming a number.  \n",
    "First, we find all the primes under n, our argument. If we want a number divisible by every number from 1-20, it is fair to say this number will be made by primes, right? As primes are indivisible by anything else, they will be at least present in the number.  \n",
    "The question that remais is, how many times they will be present? And when we say times, we mean to what power of.  \n",
    "There is a trick to find out. Lets call the prime number \"i\" and the power as \"power\".  \n",
    "In our example, let's check the smaller number divisible by the range 1-10:  \n",
    "Let's start with the first prime, 2.  \n",
    "  \n",
    "**i = 2,  \n",
    "power = 1**  \n",
    "  \n",
    "``2**1 = 2; Still smaller than 10.``  \n",
    "  \n",
    "Let's add 1 to the power and keep checking. \n",
    "   \n",
    "``2**2 = 4; Still smaller than 10. ``  \n",
    "``2**3 = 8; Still smaller than 10.``  \n",
    "``2**4 = 16; Bigger than 10!  ``\n",
    "\n",
    "So when concerning to the prime 2, the power to be used is 3. \n",
    "   \n",
    "``2**3 * primes = result.`` \n",
    "  \n",
    "If we keep doing the same for every prime under 10, we will have:  \n",
    "2**3 * 3**2 * 5 * 7 = 2520\n",
    "  \n",
    "So what our code will do is:  \n",
    "- Immediatelly return results if n < 4. If that is not the case, then;\n",
    "- Find the list with all the primes under n (this code can be better explained in the prime_nth section as it is essentially the same code);\n",
    "- With the help of the power variable, test if i can be multiplied by itself one more time;\n",
    "- Multiply all the primes by themselves and get to the final answer."
   ]
  },
  {
   "cell_type": "code",
   "execution_count": 176,
   "metadata": {},
   "outputs": [],
   "source": [
    "def upTo(n):\n",
    "\n",
    "    if n == 3:\n",
    "        return 6\n",
    "    elif n == 2:\n",
    "        return 2\n",
    "    elif n < 0:\n",
    "        return 0\n",
    "\n",
    "    def primeNth(n):\n",
    "        if n <= 2:\n",
    "            return 0\n",
    "\n",
    "        primes: list[bool] = [True] * n\n",
    "        primes[0] = primes[1] = False\n",
    "        for i in range(2,int((n**(1/2))+1)):\n",
    "            if primes[i]:\n",
    "                for j in range(i*i, n, i):\n",
    "                    primes[j] = False\n",
    "\n",
    "        prime_index: list[int] = [i for i, x in enumerate(primes) if x]\n",
    "        return prime_index\n",
    "    range_prime = primeNth(n)\n",
    "    result = 1\n",
    "    for i in range_prime:\n",
    "        power = 1\n",
    "        while i**power <= n:\n",
    "            result *= i\n",
    "            power += 1\n",
    "    print(result)\n",
    "        "
   ]
  },
  {
   "cell_type": "code",
   "execution_count": 54,
   "metadata": {},
   "outputs": [
    {
     "data": {
      "text/plain": [
       "232792560"
      ]
     },
     "execution_count": 54,
     "metadata": {},
     "output_type": "execute_result"
    }
   ],
   "source": [
    "upTo(20)"
   ]
  }
 ],
 "metadata": {
  "kernelspec": {
   "display_name": "Python 3",
   "language": "python",
   "name": "python3"
  },
  "language_info": {
   "codemirror_mode": {
    "name": "ipython",
    "version": 3
   },
   "file_extension": ".py",
   "mimetype": "text/x-python",
   "name": "python",
   "nbconvert_exporter": "python",
   "pygments_lexer": "ipython3",
   "version": "3.10.11"
  },
  "orig_nbformat": 4
 },
 "nbformat": 4,
 "nbformat_minor": 2
}
