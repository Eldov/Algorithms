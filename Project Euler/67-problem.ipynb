{
 "cells": [
  {
   "cell_type": "markdown",
   "metadata": {},
   "source": [
    "## The Problem\n",
    "By starting at the top of the triangle below and moving to adjacent numbers on the row below, the maximum total from top to bottom is 23.\n",
    "<p class=\"monospace center\"><span class=\"red\"><b>3</b></span><br><span class=\"red\"><b>7</b></span> 4<br>\n",
    "2 <span class=\"red\"><b>4</b></span> 6<br>\n",
    "8 5 <span class=\"red\"><b>9</b></span> 3</p>\n",
    "That is, 3 + 7 + 4 + 9 = 23.\n",
    "<p>Find the maximum total from top to bottom in <a href=\"./resources/triangle.txt\">triangle.txt</a> (right click and 'Save Link/Target As...'), a 15K text file containing a triangle with one-hundred rows.</p>\n"
   ]
  },
  {
   "cell_type": "markdown",
   "metadata": {},
   "source": [
    "## Explaining topBottom:\n",
    "First we import the data from the .txt file (it is in the same folder).  \n",
    "Because it is a .txt file, its content will be imported as a string. You can check the file by calling the variable \"content\".  \n",
    "We can also notice it is separated by \"\\n\", which is where each line ends.  \n",
    "The function receives the string content and split it using the \"\\n\" as separator and call it \"triangle\".  \n",
    "The result is a list of strings, each string corresponding to a number/group of numbers.  \n",
    "Example:  \n",
    "  \n",
    "['59',  \n",
    " '73 41',  \n",
    " '52 40 09',  \n",
    " '26 53 06 34',  \n",
    " ...]  \n",
    "   \n",
    " Note that every item in this list corresponds to a row of the triangle and that all the numbers within the row are divided by ' ' (space).  \n",
    " We also know that, apart from the first row, we will always sum the number right before the last one of that row, in other words row[-2], the n-1 number.  \n",
    " This way we iterate through the range of 0 to len(triangle)/total of rows always summing the n-1 number.  \n",
    " If i in the range is 0, we sum the last number of the row. if i is bigger than 0, we always get the n-1 number in that row where n is the last number index."
   ]
  },
  {
   "cell_type": "code",
   "execution_count": 2,
   "metadata": {},
   "outputs": [],
   "source": [
    "f = open('triangle.txt', 'r')\n",
    "content = f.read()\n",
    "\n",
    "def topBottom(content):\n",
    "    triangle = content.split(\"\\n\")\n",
    "    total = 0\n",
    "    for i in  range(0, len(triangle)-1):\n",
    "        if i < 1:\n",
    "            cell = int(triangle[i].split(' ')[-1])\n",
    "            total += cell\n",
    "        else:\n",
    "            cell = int(triangle[i].split(' ')[-2])\n",
    "            total += cell\n",
    "    return total"
   ]
  },
  {
   "cell_type": "code",
   "execution_count": 4,
   "metadata": {},
   "outputs": [
    {
     "data": {
      "text/plain": [
       "5069"
      ]
     },
     "execution_count": 4,
     "metadata": {},
     "output_type": "execute_result"
    }
   ],
   "source": [
    "topBottom(content)"
   ]
  }
 ],
 "metadata": {
  "kernelspec": {
   "display_name": "Python 3",
   "language": "python",
   "name": "python3"
  },
  "language_info": {
   "codemirror_mode": {
    "name": "ipython",
    "version": 3
   },
   "file_extension": ".py",
   "mimetype": "text/x-python",
   "name": "python",
   "nbconvert_exporter": "python",
   "pygments_lexer": "ipython3",
   "version": "3.10.11"
  },
  "orig_nbformat": 4
 },
 "nbformat": 4,
 "nbformat_minor": 2
}
